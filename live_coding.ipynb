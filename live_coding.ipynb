{
 "cells": [
  {
   "cell_type": "code",
   "execution_count": null,
   "id": "d12fa4d2",
   "metadata": {},
   "outputs": [],
   "source": [
    "import numpy as np\n",
    "from plot import plot, plot_one\n",
    "\n",
    "n_samples = 10000\n",
    "hidden_layer_dim = 10\n",
    "learning_rate = 1e-4\n",
    "epochs = 1001\n",
    "batch_size = 100\n",
    "\n",
    "X_np = np.random.randn(n_samples, 1) * 2\n",
    "y_np = np.sin(X_np) + np.random.randn(n_samples, 1) * 0.01\n",
    "\n",
    "W1_np = np.random.randn(1, hidden_layer_dim)\n",
    "W2_np = np.random.randn(hidden_layer_dim, 1)\n",
    "b1_np = np.zeros((1, hidden_layer_dim))\n",
    "b2_np = np.zeros((1, 1))"
   ]
  },
  {
   "cell_type": "code",
   "execution_count": null,
   "id": "688e9705",
   "metadata": {},
   "outputs": [],
   "source": [
    "class Node:\n",
    "    def __init__(self, value):\n",
    "        pass\n",
    "\n",
    "    def zero_grad(self):\n",
    "        pass\n",
    "\n",
    "    def forward(self):\n",
    "        pass\n",
    "\n",
    "    def backward(self, upstream_grad=None):\n",
    "        pass\n",
    "\n",
    "    @property\n",
    "    def gradient(self):\n",
    "        pass\n",
    "\n",
    "    @property\n",
    "    def T(self):\n",
    "        pass\n",
    "\n",
    "    def __add__(self, other):\n",
    "        pass\n",
    "\n",
    "    def __sub__(self, other):\n",
    "        pass\n",
    "\n",
    "    def __matmul__(self, other):\n",
    "        pass\n",
    "\n",
    "class Add(Node):\n",
    "    def __init__(self, a, b):\n",
    "        pass\n",
    "\n",
    "    def forward(self):\n",
    "        pass\n",
    "\n",
    "class Sub(Node):\n",
    "    def __init__(self, a, b):\n",
    "        pass\n",
    "\n",
    "    def forward(self):\n",
    "        pass\n",
    "\n",
    "class MatMul(Node):\n",
    "    def __init__(self, a, b):\n",
    "        pass\n",
    "\n",
    "    def forward(self):\n",
    "        pass\n",
    "\n",
    "class Transpose(Node):\n",
    "    def __init__(self, a):\n",
    "        pass\n",
    "\n",
    "    def forward(self):\n",
    "        pass\n",
    "\n",
    "class ReLU(Node):\n",
    "    def __init__(self, a):\n",
    "        pass\n",
    "    \n",
    "    def forward(self):\n",
    "        pass"
   ]
  },
  {
   "cell_type": "code",
   "execution_count": null,
   "id": "bc1fa3df",
   "metadata": {},
   "outputs": [],
   "source": [
    "y_preds = []\n",
    "\n",
    "# TODO : define the NN architecture\n",
    "\n",
    "for epoch in range(epochs):\n",
    "    random_indices = np.random.choice(X_np.shape[0], batch_size, replace=False)\n",
    "    # TODO : implement NN forward and backward pass\n",
    "\n",
    "    if epoch % (epochs // 10) == 0:\n",
    "        # TODO : log the loss\n",
    "        pass\n",
    "\n",
    "    if epoch % (epochs // 100) == 0:\n",
    "        # TODO : log the predictions\n",
    "        pass\n",
    "\n",
    "    # TODO : update params\n"
   ]
  },
  {
   "cell_type": "code",
   "execution_count": null,
   "id": "1dfab599",
   "metadata": {},
   "outputs": [],
   "source": [
    "plot_one(Node(X_np), Node(y_np), y_preds)"
   ]
  },
  {
   "cell_type": "code",
   "execution_count": null,
   "id": "700c7280",
   "metadata": {},
   "outputs": [],
   "source": [
    "plot(Node(X_np), Node(y_np), y_preds)"
   ]
  }
 ],
 "metadata": {
  "kernelspec": {
   "display_name": "backprop",
   "language": "python",
   "name": "python3"
  },
  "language_info": {
   "codemirror_mode": {
    "name": "ipython",
    "version": 3
   },
   "file_extension": ".py",
   "mimetype": "text/x-python",
   "name": "python",
   "nbconvert_exporter": "python",
   "pygments_lexer": "ipython3",
   "version": "3.12.9"
  }
 },
 "nbformat": 4,
 "nbformat_minor": 5
}
