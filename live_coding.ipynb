{
 "cells": [
  {
   "cell_type": "code",
   "execution_count": null,
   "id": "d12fa4d2",
   "metadata": {},
   "outputs": [],
   "source": [
    "import numpy as np\n",
    "from plot import plot, plot_one\n",
    "\n",
    "n_samples = 10000\n",
    "\n",
    "X_np = np.random.randn(n_samples, 1) * 2\n",
    "y_np = np.sin(X_np) + np.random.randn(n_samples, 1) * 0.1\n",
    "\n",
    "\n",
    "hidden_layer_dim = 10\n",
    "learning_rate = 0.0001\n",
    "epochs = 1001\n",
    "batch_size = 100"
   ]
  },
  {
   "cell_type": "code",
   "execution_count": null,
   "id": "688e9705",
   "metadata": {},
   "outputs": [],
   "source": [
    "class Node:\n",
    "    def __init__(self):\n",
    "        pass\n",
    "\n",
    "    def zero_grad(self):\n",
    "        pass\n",
    "\n",
    "    def forward(self):\n",
    "        pass\n",
    "\n",
    "    def backward(self):\n",
    "        pass\n",
    "\n",
    "    @property\n",
    "    def T(self):\n",
    "        pass\n",
    "\n",
    "    def __add__(self, other):\n",
    "        pass\n",
    "\n",
    "    def __sub__(self, other):\n",
    "        pass\n",
    "\n",
    "    def __matmul__(self, other):\n",
    "        pass\n",
    "\n",
    "class Add(Node):\n",
    "    def __init__(self):\n",
    "        pass\n",
    "\n",
    "    def forward(self):\n",
    "        pass\n",
    "\n",
    "class Sub(Node):\n",
    "    def __init__(self):\n",
    "        pass\n",
    "\n",
    "    def forward(self):\n",
    "        pass\n",
    "\n",
    "class MatMul(Node):\n",
    "    def __init__(self):\n",
    "        pass\n",
    "\n",
    "    def forward(self):\n",
    "        pass\n",
    "\n",
    "class Transpose(Node):\n",
    "    def __init__(self):\n",
    "        pass\n",
    "\n",
    "    def forward(self):\n",
    "        pass\n",
    "\n",
    "class ReLU(Node):\n",
    "    def __init__(self):\n",
    "        pass\n",
    "    \n",
    "    def forward(self):\n",
    "        pass"
   ]
  },
  {
   "cell_type": "code",
   "execution_count": null,
   "id": "bc1fa3df",
   "metadata": {},
   "outputs": [],
   "source": [
    "y_preds = []\n",
    "\n",
    "for epoch in range(epochs):\n",
    "    random_indices = np.random.choice(X_np.shape[0], batch_size, replace=False)\n",
    "    # TODO : implement NN forward and backward pass\n",
    "\n",
    "    if epoch % (epochs // 10) == 0:\n",
    "        # TODO : log the loss\n",
    "        pass\n",
    "\n",
    "    if epoch % 10 == 0:\n",
    "        # TODO : log the predictions\n",
    "        pass\n",
    "\n",
    "    # TODO : update params\n"
   ]
  },
  {
   "cell_type": "code",
   "execution_count": null,
   "id": "1dfab599",
   "metadata": {},
   "outputs": [],
   "source": [
    "plot_one(Node(X_np), Node(y_np), y_preds)"
   ]
  },
  {
   "cell_type": "code",
   "execution_count": null,
   "id": "700c7280",
   "metadata": {},
   "outputs": [],
   "source": [
    "plot(Node(X_np), Node(y_np), y_preds)"
   ]
  }
 ],
 "metadata": {
  "kernelspec": {
   "display_name": "backprop",
   "language": "python",
   "name": "python3"
  },
  "language_info": {
   "codemirror_mode": {
    "name": "ipython",
    "version": 3
   },
   "file_extension": ".py",
   "mimetype": "text/x-python",
   "name": "python",
   "nbconvert_exporter": "python",
   "pygments_lexer": "ipython3",
   "version": "3.12.9"
  }
 },
 "nbformat": 4,
 "nbformat_minor": 5
}
