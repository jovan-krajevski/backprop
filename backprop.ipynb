{
 "cells": [
  {
   "cell_type": "code",
   "execution_count": 1,
   "metadata": {},
   "outputs": [],
   "source": [
    "import numpy as np"
   ]
  },
  {
   "cell_type": "code",
   "execution_count": 2,
   "metadata": {},
   "outputs": [],
   "source": [
    "class Node:\n",
    "    def __init__(self, value):\n",
    "        self.value = np.array(value, dtype=np.float32)\n",
    "        self.grad = np.zeros_like(self.value, np.float32)\n",
    "        self.inputs = []\n",
    "\n",
    "    def zero_grad(self):\n",
    "        self.grad = np.zeros_like(self.value)\n",
    "        for input, _ in self.inputs:\n",
    "            input.zero_grad()\n",
    "\n",
    "    def backward(self, upstream_grad=None):\n",
    "        if upstream_grad is None:\n",
    "            upstream_grad = np.ones_like(self.value, np.float32)\n",
    "\n",
    "        self.grad = self.grad + upstream_grad\n",
    "        for input, grad_fn in self.inputs:\n",
    "            input_grad = grad_fn(upstream_grad)\n",
    "            input.backward(input_grad)\n",
    "\n",
    "    def __add__(self, other):\n",
    "        return Add(self, other)\n",
    "\n",
    "    def __sub__(self, other):\n",
    "        return Subtract(self, other)\n",
    "\n",
    "    def __mul__(self, other):\n",
    "        return Multiply(self, other)\n",
    "\n",
    "    def __matmul__(self, other):\n",
    "        return MatMultiply(self, other)\n",
    "\n",
    "\n",
    "class Add(Node):\n",
    "    def __init__(self, a, b):\n",
    "        super().__init__(a.value + b.value)\n",
    "        self.inputs = [(a, lambda upstream: upstream), (b, lambda upstream: upstream)]\n",
    "\n",
    "\n",
    "class Subtract(Node):\n",
    "    def __init__(self, a, b):\n",
    "        super().__init__(a.value - b.value)\n",
    "        self.inputs = [(a, lambda upstream: upstream), (b, lambda upstream: upstream)]\n",
    "\n",
    "\n",
    "class Multiply(Node):\n",
    "    def __init__(self, a, b):\n",
    "        super().__init__(a.value * b.value)\n",
    "        self.inputs = [\n",
    "            (a, lambda upstream: upstream * b.value),\n",
    "            (b, lambda upstream: upstream * a.value),\n",
    "        ]\n",
    "\n",
    "\n",
    "class MatMultiply(Node):\n",
    "    def __init__(self, a, b):\n",
    "        super().__init__(a.value @ b.value)\n",
    "        self.inputs = [\n",
    "            (a, lambda upstream: upstream @ b.value.T),\n",
    "            (b, lambda upstream: a.value.T @ upstream),\n",
    "        ]\n",
    "\n",
    "\n",
    "class ReLU(Node):\n",
    "    def __init__(self, x):\n",
    "        super().__init__(np.maximum(0, x.value))\n",
    "        self.inputs = [\n",
    "            (x, lambda upstream: upstream * (x.value > 0).astype(np.float32))\n",
    "        ]\n",
    "\n",
    "class Transpose(Node):\n",
    "    def __init__(self, x):\n",
    "        super().__init__(x.value.T)\n",
    "        self.inputs = [\n",
    "            (x, lambda upstream: upstream.T)\n",
    "        ]\n",
    "\n",
    "\n",
    "def mse_loss(y_pred, y_true):\n",
    "    diff = y_pred - y_true\n",
    "    return Transpose(diff) @ diff"
   ]
  },
  {
   "cell_type": "code",
   "execution_count": 36,
   "metadata": {},
   "outputs": [
    {
     "name": "stdout",
     "output_type": "stream",
     "text": [
      "Epoch 0: [[24.314356]]\n",
      "Epoch 1000: [[0.06819037]]\n",
      "Epoch 2000: [[0.02172773]]\n",
      "Epoch 3000: [[0.01131087]]\n",
      "Epoch 4000: [[0.01069991]]\n",
      "Epoch 5000: [[0.01001856]]\n",
      "Epoch 6000: [[0.0124352]]\n",
      "Epoch 7000: [[0.01677421]]\n",
      "Epoch 8000: [[0.00629853]]\n",
      "Epoch 9000: [[0.01197684]]\n",
      "Epoch 10000: [[0.01631875]]\n"
     ]
    }
   ],
   "source": [
    "n_samples = 100000\n",
    "\n",
    "X = Node(np.random.randn(n_samples, 2))\n",
    "y = Node((np.cos(X.value[:, 0]) + np.sin(X.value[:, 1]))[:, None])\n",
    "\n",
    "\n",
    "hidden_layer_dim = 10\n",
    "learning_rate = 0.0001\n",
    "epochs = 10001\n",
    "batch_size = 100\n",
    "\n",
    "weights_1 = Node(np.random.randn(X.value.shape[1], hidden_layer_dim))\n",
    "biases_1 = Node(np.random.randn(1, hidden_layer_dim))\n",
    "weights_2 = Node(np.random.randn(hidden_layer_dim, 1))\n",
    "biases_2 = Node(np.random.randn(1, 1))\n",
    "for epoch in range(epochs):\n",
    "    random_indices = np.random.choice(X.value.shape[0], batch_size, replace=False)\n",
    "    out_1 = ReLU(Node(X.value[random_indices]) @ weights_1 + biases_1)\n",
    "    out_2 = out_1 @ weights_2 + biases_2\n",
    "    loss = mse_loss(out_2, Node(y.value[random_indices]))\n",
    "    loss.zero_grad()\n",
    "    loss.backward()\n",
    "    if epoch % 1000 == 0:\n",
    "        print(f\"Epoch {epoch}: {loss.value / batch_size}\")\n",
    "    \n",
    "    weights_1.value -= learning_rate * weights_1.grad\n",
    "    weights_2.value -= learning_rate * weights_2.grad\n",
    "    biases_1.value -= learning_rate * biases_1.grad.sum(axis=0)\n",
    "    biases_2.value -= learning_rate * biases_2.grad.sum(axis=0)\n"
   ]
  },
  {
   "cell_type": "code",
   "execution_count": 37,
   "metadata": {},
   "outputs": [
    {
     "data": {
      "text/plain": [
       "array([[ 1.0936732 ],\n",
       "       [ 1.9834421 ],\n",
       "       [ 0.33278322],\n",
       "       [-0.3883252 ],\n",
       "       [ 0.18915081]], dtype=float32)"
      ]
     },
     "execution_count": 37,
     "metadata": {},
     "output_type": "execute_result"
    }
   ],
   "source": [
    "test_x = Node(np.random.randn(5, 2))\n",
    "out_1 = ReLU(test_x @ weights_1 + biases_1)\n",
    "out_2 = out_1 @ weights_2 + biases_2\n",
    "out_2.value\n"
   ]
  },
  {
   "cell_type": "code",
   "execution_count": 38,
   "metadata": {},
   "outputs": [
    {
     "data": {
      "text/plain": [
       "array([[ 1.1357993 ],\n",
       "       [ 1.9952853 ],\n",
       "       [ 0.29267114],\n",
       "       [-0.43164307],\n",
       "       [ 0.23005635]], dtype=float32)"
      ]
     },
     "execution_count": 38,
     "metadata": {},
     "output_type": "execute_result"
    }
   ],
   "source": [
    "(np.cos(test_x.value[:,0]) + np.sin(test_x.value[:,1]))[:, None]"
   ]
  },
  {
   "cell_type": "code",
   "execution_count": null,
   "metadata": {},
   "outputs": [],
   "source": []
  }
 ],
 "metadata": {
  "kernelspec": {
   "display_name": "backprop",
   "language": "python",
   "name": "python3"
  },
  "language_info": {
   "codemirror_mode": {
    "name": "ipython",
    "version": 3
   },
   "file_extension": ".py",
   "mimetype": "text/x-python",
   "name": "python",
   "nbconvert_exporter": "python",
   "pygments_lexer": "ipython3",
   "version": "3.12.9"
  }
 },
 "nbformat": 4,
 "nbformat_minor": 2
}
